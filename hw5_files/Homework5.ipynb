{
 "cells": [
  {
   "cell_type": "code",
   "execution_count": 2,
   "metadata": {},
   "outputs": [],
   "source": [
    "import re"
   ]
  },
  {
   "cell_type": "code",
   "execution_count": 43,
   "metadata": {},
   "outputs": [
    {
     "ename": "SyntaxError",
     "evalue": "invalid syntax (<ipython-input-43-6aa108b7a8b8>, line 16)",
     "output_type": "error",
     "traceback": [
      "\u001b[0;36m  File \u001b[0;32m\"<ipython-input-43-6aa108b7a8b8>\"\u001b[0;36m, line \u001b[0;32m16\u001b[0m\n\u001b[0;31m    trending_date = ???\u001b[0m\n\u001b[0m                    ^\u001b[0m\n\u001b[0;31mSyntaxError\u001b[0m\u001b[0;31m:\u001b[0m invalid syntax\n"
     ]
    }
   ],
   "source": [
    "def process_youtube(USvideos , USvideos_Output):\n",
    "    daily_counts = dict\n",
    "    re_filter = re.compile(r'(local|remote) - - \\,28,/',re.I)\n",
    "    num_lines_matched = 0\n",
    "    num_lines_not_matched = 0\n",
    "    outputlines = list\n",
    "    with open(USvideos) as f:\n",
    "        for line in f:\n",
    "            line = str.rstrip(USvideos)\n",
    "            mfilter = re.match(rgx,line)\n",
    "            if mfilter:\n",
    "                id = m.group(1)\n",
    "                daily_counts[id] = daily_counts.get(id, 0) + 1\n",
    "                trending_date = ???\n",
    "\n",
    "                # Increment count by trending date\n",
    "                daily_counts[???] = ??? + 1\n",
    "                num_lines_matched >> outputlines\n",
    "            else:\n",
    "                # Increment number of lines not matched counter\n",
    "                daily_counts['NO_ID'] = daily_counts.get('NO_ID') + 1\n",
    "                for item in outputlines:\n",
    "                      print>>USvideos_Output, item"
   ]
  },
  {
   "cell_type": "code",
   "execution_count": null,
   "metadata": {},
   "outputs": [],
   "source": [
    "\n",
    "            else:\n",
    "                # Increment number of lines not matched counter\n",
    "                monthly_counts['NO_MONTH'] = monthly_counts.get('NO_MONTH') + 1\n",
    "\n",
    "\n",
    "    # Write the output file\n",
    "        # There are a few ways to write out a list of strings to a file. Figure\n",
    "        # out one way to do it and then do it.\n",
    "\n",
    "    # # Print out the counts dictionary\n",
    "    for ??? in daily_counts.???:\n",
    "        print (???)\n",
    "\n",
    "    # All done, print the results\n",
    "    print(\"\\nNum lines matched --> {}\".???)\n",
    "    print(sum(num_lines_matched.values()))\n",
    "\n",
    "\n",
    "if __name__ == '__main__':\n",
    "    process_youtube('./data/USvideos.csv', 'USvideos_SciTech.csv')"
   ]
  }
 ],
 "metadata": {
  "kernelspec": {
   "display_name": "Python 3",
   "language": "python",
   "name": "python3"
  },
  "language_info": {
   "codemirror_mode": {
    "name": "ipython",
    "version": 3
   },
   "file_extension": ".py",
   "mimetype": "text/x-python",
   "name": "python",
   "nbconvert_exporter": "python",
   "pygments_lexer": "ipython3",
   "version": "3.5.4"
  }
 },
 "nbformat": 4,
 "nbformat_minor": 2
}
